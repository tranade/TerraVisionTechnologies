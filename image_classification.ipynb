{
 "cells": [
  {
   "cell_type": "code",
   "execution_count": 6,
   "metadata": {},
   "outputs": [
    {
     "name": "stdout",
     "output_type": "stream",
     "text": [
      "Determining the exact type of soil from an image can be challenging without specific testing, but I can provide some general information. The soil in the image appears to be loamy. Loamy soil is typically recognized for its balanced composition of sand, silt, and clay, which gives it a crumbly texture that retains moisture well while still allowing for proper drainage. This type of soil is often considered ideal for gardening and agriculture because it balances water retention and drainage and is rich in nutrients. It is also easier to work with due to its friable texture. However, without laboratory tests or more context, it is not possible to provide a precise soil classification or identify its exact nutrient content.\n"
     ]
    }
   ],
   "source": [
    "from openai import OpenAI\n",
    "\n",
    "api_key = \"\"\n",
    "\n",
    "client = OpenAI(api_key=api_key)\n",
    "\n",
    "response = client.chat.completions.create(\n",
    "  model=\"gpt-4-vision-preview\",\n",
    "  messages=[\n",
    "    {\n",
    "      \"role\": \"user\",\n",
    "      \"content\": [\n",
    "        {\"type\": \"text\", \"text\": \"What type of soil is this?\"},\n",
    "        {\n",
    "          \"type\": \"image_url\",\n",
    "          \"image_url\": {\n",
    "            \"url\": \"https://lirp.cdn-website.com/9d790932483e4f59917c6c6214797fed/dms3rep/multi/opt/2021-04-22-OnsiteBlogging-42052438-1-960w.jpg\",\n",
    "          },\n",
    "        },\n",
    "      ],\n",
    "    }\n",
    "  ],\n",
    "  max_tokens=300,\n",
    ")\n",
    "\n",
    "# print(response.choices[0])\n",
    "choice = response.choices[0]\n",
    "\n",
    "# Extracting the content\n",
    "content = choice.message.content\n",
    "\n",
    "print(content)"
   ]
  }
 ],
 "metadata": {
  "kernelspec": {
   "display_name": "base",
   "language": "python",
   "name": "python3"
  },
  "language_info": {
   "codemirror_mode": {
    "name": "ipython",
    "version": 3
   },
   "file_extension": ".py",
   "mimetype": "text/x-python",
   "name": "python",
   "nbconvert_exporter": "python",
   "pygments_lexer": "ipython3",
   "version": "3.10.9"
  }
 },
 "nbformat": 4,
 "nbformat_minor": 2
}
