{
 "cells": [
  {
   "cell_type": "code",
   "execution_count": 8,
   "metadata": {},
   "outputs": [
    {
     "name": "stdout",
     "output_type": "stream",
     "text": [
      "When dealing with a soil that is a mix of clay and sand, it is important to choose crops that are tolerant of varying soil conditions and can thrive in a well-balanced soil environment. Here are some crops that are suitable for clay and sand mix soil:\n",
      "\n",
      "1. Root vegetables: Carrots, radishes, turnips, parsnips, and beets are well-suited for sandy soil as they can penetrate and grow through the loose texture. However, they also tolerate clay soils.\n",
      "\n",
      "2. Legumes: Beans and peas are great for improving clay soils as their roots help break up the compaction while also fixing nitrogen in the soil. They also tend to thrive in sandy soils.\n",
      "\n",
      "3. Greens and leafy vegetables: Lettuce, spinach, Swiss chard, kale, and cabbage can be grown successfully in sandy or clayey soils.\n",
      "\n",
      "4. Alliums: Onions, garlic, leeks, and shallots are generally tolerant of sandy and clayey soils, and they often thrive in them.\n",
      "\n",
      "5. Herbs: Herbs like rosemary, thyme, oregano, and sage can do well in sandy or clay soils as long as they are well-drained.\n",
      "\n",
      "It is also recommended to regularly amend the soil with organic matter such as compost or well-rotted manure to improve its structure and fertility. Additionally, maintaining proper irrigation practices is crucial to avoid waterlogging or excessive drying, depending on the soil composition.\n"
     ]
    }
   ],
   "source": [
    "import requests\n",
    "\n",
    "# Constants\n",
    "ENDPOINT_COMPLETIONS = \"https://api.openai.com/v1/chat/completions\"\n",
    "\n",
    "# Global variables\n",
    "API_KEY = input(\"Please enter your API key: \")\n",
    "\n",
    "# Helper function to get blurb from the chat completions api endpoint\n",
    "def get_blurb(description):\n",
    "    # Defines the prompt to send to the API based on title and theme\n",
    "    prompt = f\"What crops should be planted in soil with the following properties? ${description}\"\n",
    "    \n",
    "    # Sends the request to the API\n",
    "    response = requests.post(\n",
    "        ENDPOINT_COMPLETIONS,\n",
    "        json={\n",
    "            \"model\": \"gpt-3.5-turbo\",\n",
    "            \"messages\": [{\"role\": \"user\", \"content\": prompt}]\n",
    "        },\n",
    "        headers={\n",
    "            \"Content-type\": \"application/json\",\n",
    "            \"Authorization\": f\"Bearer {API_KEY}\"\n",
    "        }\n",
    "    )\n",
    "    \n",
    "    # Extracts the data from the response\n",
    "    data = response.json()\n",
    "    \n",
    "    # Returns the blurb by extracting it from the JSON object\n",
    "    return data[\"choices\"][0][\"message\"][\"content\"]\n",
    "\n",
    "# Event handler\n",
    "def handle_form_submission():\n",
    "    \n",
    "    try:\n",
    "        # Gets blurb by calling the helper function\n",
    "        blurb_text = get_blurb(\"clay and sand mix\")\n",
    "        print(blurb_text)\n",
    "        \n",
    "    except Exception as e:\n",
    "        # Prints to console and displays alert if error occurs\n",
    "        print(\"An error occurred.\")\n",
    "\n",
    "# Main function\n",
    "def main():\n",
    "    handle_form_submission()\n",
    "\n",
    "# Entry point\n",
    "if __name__ == \"__main__\":\n",
    "    main()\n"
   ]
  }
 ],
 "metadata": {
  "kernelspec": {
   "display_name": "base",
   "language": "python",
   "name": "python3"
  },
  "language_info": {
   "codemirror_mode": {
    "name": "ipython",
    "version": 3
   },
   "file_extension": ".py",
   "mimetype": "text/x-python",
   "name": "python",
   "nbconvert_exporter": "python",
   "pygments_lexer": "ipython3",
   "version": "3.10.9"
  }
 },
 "nbformat": 4,
 "nbformat_minor": 2
}
