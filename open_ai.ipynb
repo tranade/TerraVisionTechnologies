{
 "cells": [
  {
   "cell_type": "code",
   "execution_count": 9,
   "metadata": {},
   "outputs": [
    {
     "name": "stdout",
     "output_type": "stream",
     "text": [
      "Based on the soil properties provided, which indicate a high percentage of gravel and silt but no sand, it can be inferred that the soil is a heavy clay soil. \n",
      "\n",
      "Clay soils tend to retain water and have poor drainage, making it challenging for some crops to thrive. However, there are several crops that can be grown successfully in clay soil. Here are some options:\n",
      "\n",
      "1. Root vegetables: Crops like potatoes, carrots, beets, and radishes tend to thrive in heavy clay soils. They can penetrate the soil easily and grow well in the nutrient-rich clay.\n",
      "\n",
      "2. Leafy greens: Vegetables like kale, collard greens, and Swiss chard can tolerate clay soils. They prefer consistent moisture, which clay soils can provide due to their water-holding capacity.\n",
      "\n",
      "3. Brassicas: Crops like broccoli, cauliflower, and cabbage can grow well in clay soils. These crops are relatively sturdy and can handle the soil's heavy texture.\n",
      "\n",
      "4. Legumes: Beans and peas, particularly bush beans, can grow in clay soil if provided with proper drainage. Adding organic matter or compost to improve drainage is recommended for legume crops.\n",
      "\n",
      "While these crops can thrive in clay soils, it's essential to amend the soil by adding organic matter like compost to improve its fertility, structure, and drainage. Regular soil testing and maintaining appropriate nutrient levels will also help achieve optimal crop growth.\n"
     ]
    }
   ],
   "source": [
    "import requests\n",
    "\n",
    "# Constants\n",
    "ENDPOINT_COMPLETIONS = \"https://api.openai.com/v1/chat/completions\"\n",
    "\n",
    "# Global variables\n",
    "API_KEY = input(\"Please enter your API key: \")\n",
    "\n",
    "# Helper function to get blurb from the chat completions api endpoint\n",
    "def get_blurb(description):\n",
    "    # Defines the prompt to send to the API based on title and theme\n",
    "    prompt = f\"What crops should be planted in soil with the following properties? ${description}\"\n",
    "    \n",
    "    # Sends the request to the API\n",
    "    response = requests.post(\n",
    "        ENDPOINT_COMPLETIONS,\n",
    "        json={\n",
    "            \"model\": \"gpt-3.5-turbo\",\n",
    "            \"messages\": [{\"role\": \"user\", \"content\": prompt}]\n",
    "        },\n",
    "        headers={\n",
    "            \"Content-type\": \"application/json\",\n",
    "            \"Authorization\": f\"Bearer {API_KEY}\"\n",
    "        }\n",
    "    )\n",
    "    \n",
    "    # Extracts the data from the response\n",
    "    data = response.json()\n",
    "    \n",
    "    # Returns the blurb by extracting it from the JSON object\n",
    "    return data[\"choices\"][0][\"message\"][\"content\"]\n",
    "\n",
    "# Event handler\n",
    "def handle_form_submission():\n",
    "\n",
    "    description = \"Percent Gravel: 62.5%, Percent Sand: 0.0%, Percent Silt: 37.5%\"\n",
    "    \n",
    "    try:\n",
    "        # Gets blurb by calling the helper function\n",
    "        blurb_text = get_blurb(description)\n",
    "        print(blurb_text)\n",
    "        \n",
    "    except Exception as e:\n",
    "        # Prints to console and displays alert if error occurs\n",
    "        print(\"An error occurred.\")\n",
    "\n",
    "# Main function\n",
    "def main():\n",
    "    \n",
    "\n",
    "    handle_form_submission()\n",
    "\n",
    "# Entry point\n",
    "if __name__ == \"__main__\":\n",
    "    main()\n"
   ]
  }
 ],
 "metadata": {
  "kernelspec": {
   "display_name": "base",
   "language": "python",
   "name": "python3"
  },
  "language_info": {
   "codemirror_mode": {
    "name": "ipython",
    "version": 3
   },
   "file_extension": ".py",
   "mimetype": "text/x-python",
   "name": "python",
   "nbconvert_exporter": "python",
   "pygments_lexer": "ipython3",
   "version": "3.10.9"
  }
 },
 "nbformat": 4,
 "nbformat_minor": 2
}
